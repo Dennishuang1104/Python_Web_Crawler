{
 "cells": [
  {
   "cell_type": "code",
   "execution_count": 7,
   "id": "eb783b9f",
   "metadata": {},
   "outputs": [],
   "source": [
    "from bs4 import BeautifulSoup\n",
    "import os, requests,time,json,re\n",
    "import pandas as pd \n",
    "folder = \"Novels_Reading\" #創建資料夾檔案\n",
    "if not os.path.exists(folder):\n",
    "    os.makedirs(folder)    \n",
    "folder_path = r\"C:\\Users\\User\\Novels_Reading\"  #資料夾路徑\n",
    "\n",
    "# 修改Headers\n",
    "my_headers= {\n",
    "    'user-agent': 'Mozilla/5.0 (Windows NT 10.0; Win64; x64) AppleWebKit/537.36 (KHTML, like Gecko) Chrome/93.0.4577.82 Safari/537.36'\n",
    "}\n",
    "\n",
    "\n",
    "#進行爬蟲\n",
    "url = 'https://www.gutenberg.org/browse/languages/zh' #第一步Assign網址\n",
    "resp =requests.get(url , headers=my_headers)        #第二步Get_Url\n",
    "soup =BeautifulSoup(resp.text) #第三步使用套件\n",
    "nodes = (soup.select(selector=\".pgdbetext a\")) #第四步找到對應的CSS書名以及ID\n",
    "element_string = str(nodes)    #第五步轉換成字串以便正規表達式處理\n",
    "\n",
    "titles= [node.text for node in nodes]    #取得書名\n",
    "Book_id = re.findall(r'/[0-9]{4,5}',element_string)  #取得書籍id \n",
    "\n",
    "titles_length =len(titles)   #ID 總共有幾筆\n",
    "Book_id_length=len(Book_id)  #主題 總共有幾筆\n",
    "\n",
    "\n",
    "#整理標題的特殊字元\n",
    "for t in range (0,titles_length):\n",
    "    titles[t] = re.sub(r\"[\\r]\",\"\",titles[t]) \n",
    "    titles[t] = re.sub(r\"[\\/]\",\" \",titles[t])\n",
    "\n",
    "    \n",
    "#清洗文章內的特殊字元以英文字母\n",
    "# c = r\"[\\u4e00-\\u9fa5]+\"  # 中文表示法\n",
    "d= \"\"\n",
    "w1 = r\"[\\r\\n]+\"\n",
    "w2 = r\"[\\u3000]+\"\n",
    "w3= r\"[a-zA-z]+\"\n",
    "w4 =r\"[0-9]+\"\n",
    "w5 = r\"[\\<>]\"\n",
    "w6 = r\"[\\,]\"\n",
    "w7 = r\"[\\.]\"\n",
    "w8 = r\"[\\:]\"\n",
    "w9 = r\"[\\*]\"\n",
    "w10= r\"[\\#]\"\n",
    "w11= r\"[\\']\"\n",
    "w12= r\"[\\-]\"\n",
    "w13= r\"[\\/]\"\n",
    "w14= r\"[\\()@$]\"\n",
    "w15= r\"[\\\"]\"\n",
    "w16= r\"[\\%]\"\n",
    "w17= r\"[\\ufeff]\"\n",
    "\n",
    "\n",
    "# 建立特殊符號表格\n",
    "Article = {1:w1,2:w2,3:w3,4:w4,5:w5,6:w6,7:w7,8:w8,9:w9,10:w10,11:w11,12:w12,13:w13,\n",
    "            14:w14,15:w15,16:w16,17:w17}   "
   ]
  },
  {
   "cell_type": "code",
   "execution_count": null,
   "id": "351be889",
   "metadata": {},
   "outputs": [
    {
     "name": "stdout",
     "output_type": "stream",
     "text": [
      "第0文章已經完成\n",
      "第1文章已經完成\n"
     ]
    }
   ],
   "source": [
    "Novel=[]\n",
    "Del_word=''\n",
    "for i in range (0,506):\n",
    "    url= (f\"https://www.gutenberg.org/files{Book_id[i]}{Book_id[i]}-0.txt\") #取得小說內容的網路的url\n",
    "    time.sleep(0.3)\n",
    "    resp = requests.get(url , headers=my_headers)\n",
    "    soup = BeautifulSoup(resp.text)\n",
    "    Novel_text = soup.encode('raw_unicode_escape').decode(\"utf8\", errors='ignore')#修改成utf-8編碼\n",
    "    print(f'第{i}文章已經完成')\n",
    "    for t in range (1,18):    #將內文中文以外內容清乾淨\n",
    "        Novel_text=re.sub(Article[t],Del_word,Novel_text)    \n",
    "    Novel.append(Novel_text)  #正確小說內容\n",
    "    f = open(f\"{folder}/{titles[i]}.txt\",'w',encoding='utf-8')  #開啟已經加上標題的檔案\n",
    "    f.writelines(Novel[i])    #寫入檔案\n",
    "    f.close()"
   ]
  },
  {
   "cell_type": "code",
   "execution_count": null,
   "id": "2274f393",
   "metadata": {},
   "outputs": [],
   "source": []
  },
  {
   "cell_type": "code",
   "execution_count": null,
   "id": "1f8b6f4a",
   "metadata": {
    "scrolled": true
   },
   "outputs": [],
   "source": []
  },
  {
   "cell_type": "code",
   "execution_count": null,
   "id": "9687d4b8",
   "metadata": {},
   "outputs": [],
   "source": []
  }
 ],
 "metadata": {
  "kernelspec": {
   "display_name": "Python 3",
   "language": "python",
   "name": "python3"
  },
  "language_info": {
   "codemirror_mode": {
    "name": "ipython",
    "version": 3
   },
   "file_extension": ".py",
   "mimetype": "text/x-python",
   "name": "python",
   "nbconvert_exporter": "python",
   "pygments_lexer": "ipython3",
   "version": "3.8.8"
  }
 },
 "nbformat": 4,
 "nbformat_minor": 5
}
